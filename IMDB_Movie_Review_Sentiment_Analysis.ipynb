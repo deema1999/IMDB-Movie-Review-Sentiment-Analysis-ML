{
  "nbformat": 4,
  "nbformat_minor": 0,
  "metadata": {
    "colab": {
      "name": "IMDB Movie Review Sentiment Analysis.ipynb",
      "provenance": [],
      "collapsed_sections": [
        "H5kz-mNiV5dF",
        "W5f666f0WLjd",
        "EFGNsO05Rqhd",
        "1G-vYHvKR1HI",
        "HtZ1CHLcR57b",
        "tB3rLtq0R_3e",
        "hC5IOWx1SFJe",
        "PGg2N2t2SNZm",
        "gNBq0rwgSL6A",
        "08LcdPX6Wlrk",
        "WFutVf8CqKTl",
        "lhysd5RiWpNt"
      ],
      "authorship_tag": "ABX9TyP/8xv5p5r3uV6rDfLUtWPO",
      "include_colab_link": true
    },
    "kernelspec": {
      "display_name": "Python 3",
      "name": "python3"
    },
    "language_info": {
      "name": "python"
    }
  },
  "cells": [
    {
      "cell_type": "markdown",
      "metadata": {
        "id": "view-in-github",
        "colab_type": "text"
      },
      "source": [
        "<a href=\"https://colab.research.google.com/github/deema1999/IMDB-Movie-Review-using-ML/blob/main/IMDB_Movie_Review_Sentiment_Analysis.ipynb\" target=\"_parent\"><img src=\"https://colab.research.google.com/assets/colab-badge.svg\" alt=\"Open In Colab\"/></a>"
      ]
    },
    {
      "cell_type": "code",
      "metadata": {
        "colab": {
          "base_uri": "https://localhost:8080/"
        },
        "id": "rIUpuG2y0buY",
        "outputId": "edb48453-f2bc-43ce-9b1f-eae178c358ff"
      },
      "source": [
        "import pandas as pd\n",
        "import seaborn as sns \n",
        "import numpy as np\n",
        "import matplotlib.pyplot as plt\n",
        "import sklearn as sk\n",
        "# Mounting Google Drive in Colab\n",
        "from google.colab import drive\n",
        "drive.mount(\"/content/gdrive\")"
      ],
      "execution_count": 5,
      "outputs": [
        {
          "output_type": "stream",
          "text": [
            "Drive already mounted at /content/gdrive; to attempt to forcibly remount, call drive.mount(\"/content/gdrive\", force_remount=True).\n"
          ],
          "name": "stdout"
        }
      ]
    },
    {
      "cell_type": "markdown",
      "metadata": {
        "id": "H5kz-mNiV5dF"
      },
      "source": [
        "# Data Processing"
      ]
    },
    {
      "cell_type": "code",
      "metadata": {
        "colab": {
          "base_uri": "https://localhost:8080/",
          "height": 0
        },
        "id": "mHFOHz9605rq",
        "outputId": "f8e86700-50d9-4ffa-fde5-e734c17b0eb8"
      },
      "source": [
        "# Read data \n",
        "df_data = pd.read_csv(\"/content/gdrive/My Drive/ML/IMDB_Dataset.csv\")\n",
        "df_data.head()"
      ],
      "execution_count": 6,
      "outputs": [
        {
          "output_type": "execute_result",
          "data": {
            "text/html": [
              "<div>\n",
              "<style scoped>\n",
              "    .dataframe tbody tr th:only-of-type {\n",
              "        vertical-align: middle;\n",
              "    }\n",
              "\n",
              "    .dataframe tbody tr th {\n",
              "        vertical-align: top;\n",
              "    }\n",
              "\n",
              "    .dataframe thead th {\n",
              "        text-align: right;\n",
              "    }\n",
              "</style>\n",
              "<table border=\"1\" class=\"dataframe\">\n",
              "  <thead>\n",
              "    <tr style=\"text-align: right;\">\n",
              "      <th></th>\n",
              "      <th>review</th>\n",
              "      <th>sentiment</th>\n",
              "    </tr>\n",
              "  </thead>\n",
              "  <tbody>\n",
              "    <tr>\n",
              "      <th>0</th>\n",
              "      <td>One of the other reviewers has mentioned that ...</td>\n",
              "      <td>positive</td>\n",
              "    </tr>\n",
              "    <tr>\n",
              "      <th>1</th>\n",
              "      <td>A wonderful little production. &lt;br /&gt;&lt;br /&gt;The...</td>\n",
              "      <td>positive</td>\n",
              "    </tr>\n",
              "    <tr>\n",
              "      <th>2</th>\n",
              "      <td>I thought this was a wonderful way to spend ti...</td>\n",
              "      <td>positive</td>\n",
              "    </tr>\n",
              "    <tr>\n",
              "      <th>3</th>\n",
              "      <td>Basically there's a family where a little boy ...</td>\n",
              "      <td>negative</td>\n",
              "    </tr>\n",
              "    <tr>\n",
              "      <th>4</th>\n",
              "      <td>Petter Mattei's \"Love in the Time of Money\" is...</td>\n",
              "      <td>positive</td>\n",
              "    </tr>\n",
              "  </tbody>\n",
              "</table>\n",
              "</div>"
            ],
            "text/plain": [
              "                                              review sentiment\n",
              "0  One of the other reviewers has mentioned that ...  positive\n",
              "1  A wonderful little production. <br /><br />The...  positive\n",
              "2  I thought this was a wonderful way to spend ti...  positive\n",
              "3  Basically there's a family where a little boy ...  negative\n",
              "4  Petter Mattei's \"Love in the Time of Money\" is...  positive"
            ]
          },
          "metadata": {
            "tags": []
          },
          "execution_count": 6
        }
      ]
    },
    {
      "cell_type": "code",
      "metadata": {
        "colab": {
          "base_uri": "https://localhost:8080/"
        },
        "id": "wvJUZQ2o2BoW",
        "outputId": "9af152b0-0941-4b79-b44d-6bc03df747d9"
      },
      "source": [
        "# Explore data\n",
        "print(df_data['sentiment'].unique())\n",
        "print(\"All types : \",list(set(df_data.dtypes.tolist())))"
      ],
      "execution_count": 7,
      "outputs": [
        {
          "output_type": "stream",
          "text": [
            "['positive' 'negative']\n",
            "All types :  [dtype('O')]\n"
          ],
          "name": "stdout"
        }
      ]
    },
    {
      "cell_type": "code",
      "metadata": {
        "colab": {
          "base_uri": "https://localhost:8080/",
          "height": 0
        },
        "id": "6CYGQsub2CSw",
        "outputId": "e131064a-d3ff-4510-c50a-954f21c90329"
      },
      "source": [
        "# To check missing values\n",
        "print(\"SUM : \\n\",df_data.isnull().sum())\n",
        "sns.heatmap(df_data.isnull(), cbar=False, yticklabels=False, cmap=\"viridis\")"
      ],
      "execution_count": 8,
      "outputs": [
        {
          "output_type": "stream",
          "text": [
            "SUM : \n",
            " review       0\n",
            "sentiment    0\n",
            "dtype: int64\n"
          ],
          "name": "stdout"
        },
        {
          "output_type": "execute_result",
          "data": {
            "text/plain": [
              "<matplotlib.axes._subplots.AxesSubplot at 0x7f3f93693c10>"
            ]
          },
          "metadata": {
            "tags": []
          },
          "execution_count": 8
        },
        {
          "output_type": "display_data",
          "data": {
            "image/png": "[encoded data removed]",
            "text/plain": [
              "<Figure size 432x288 with 1 Axes>"
            ]
          },
          "metadata": {
            "tags": [],
            "needs_background": "light"
          }
        }
      ]
    },
    {
      "cell_type": "code",
      "metadata": {
        "colab": {
          "base_uri": "https://localhost:8080/"
        },
        "id": "2J0pUKYF2D1f",
        "outputId": "91f0a9fe-f27c-48df-c23f-731bdd5dad4a"
      },
      "source": [
        "# Dropping the duplicate rows\n",
        "duplicate_rows = df_data[df_data.duplicated()]\n",
        "print(\"number of duplicate rows : \",duplicate_rows.shape)\n",
        "\n",
        "df_data.drop_duplicates(inplace=True)\n",
        "print(\"number of duplicate rows : \",df_data[df_data.duplicated()].shape)"
      ],
      "execution_count": 9,
      "outputs": [
        {
          "output_type": "stream",
          "text": [
            "number of duplicate rows :  (418, 2)\n",
            "number of duplicate rows :  (0, 2)\n"
          ],
          "name": "stdout"
        }
      ]
    },
    {
      "cell_type": "markdown",
      "metadata": {
        "id": "W5f666f0WLjd"
      },
      "source": [
        "# Mapping of Data Feature Values and Data Visualization"
      ]
    },
    {
      "cell_type": "code",
      "metadata": {
        "colab": {
          "base_uri": "https://localhost:8080/",
          "height": 0
        },
        "id": "9VoY3mSZ2Gip",
        "outputId": "8df2172d-dc50-48ec-efef-6aafca7323e6"
      },
      "source": [
        "# data visualization\n",
        "sns.countplot(df_data['sentiment'])"
      ],
      "execution_count": 10,
      "outputs": [
        {
          "output_type": "stream",
          "text": [
            "/usr/local/lib/python3.7/dist-packages/seaborn/_decorators.py:43: FutureWarning: Pass the following variable as a keyword arg: x. From version 0.12, the only valid positional argument will be `data`, and passing other arguments without an explicit keyword will result in an error or misinterpretation.\n",
            "  FutureWarning\n"
          ],
          "name": "stderr"
        },
        {
          "output_type": "execute_result",
          "data": {
            "text/plain": [
              "<matplotlib.axes._subplots.AxesSubplot at 0x7f3f89410110>"
            ]
          },
          "metadata": {
            "tags": []
          },
          "execution_count": 10
        },
        {
          "output_type": "display_data",
          "data": {
            "image/png": "[encoded data removed]",
            "text/plain": [
              "<Figure size 432x288 with 1 Axes>"
            ]
          },
          "metadata": {
            "tags": [],
            "needs_background": "light"
          }
        }
      ]
    },
    {
      "cell_type": "code",
      "metadata": {
        "colab": {
          "base_uri": "https://localhost:8080/"
        },
        "id": "gEWHMeQ72IUk",
        "outputId": "bc912aa0-7897-4e0f-8893-2a75550b02e8"
      },
      "source": [
        "df_data_copy = df_data.copy()\n",
        "df_data_copy[\"sentiment\"] = df_data_copy[\"sentiment\"].map({\"positive\":1,\"negative\":0})\n",
        "print(df_data_copy.head(30))"
      ],
      "execution_count": 11,
      "outputs": [
        {
          "output_type": "stream",
          "text": [
            "                                               review  sentiment\n",
            "0   One of the other reviewers has mentioned that ...          1\n",
            "1   A wonderful little production. <br /><br />The...          1\n",
            "2   I thought this was a wonderful way to spend ti...          1\n",
            "3   Basically there's a family where a little boy ...          0\n",
            "4   Petter Mattei's \"Love in the Time of Money\" is...          1\n",
            "5   Probably my all-time favorite movie, a story o...          1\n",
            "6   I sure would like to see a resurrection of a u...          1\n",
            "7   This show was an amazing, fresh & innovative i...          0\n",
            "8   Encouraged by the positive comments about this...          0\n",
            "9   If you like original gut wrenching laughter yo...          1\n",
            "10  Phil the Alien is one of those quirky films wh...          0\n",
            "11  I saw this movie when I was about 12 when it c...          0\n",
            "12  So im not a big fan of Boll's work but then ag...          0\n",
            "13  The cast played Shakespeare.<br /><br />Shakes...          0\n",
            "14  This a fantastic movie of three prisoners who ...          1\n",
            "15  Kind of drawn in by the erotic scenes, only to...          0\n",
            "16  Some films just simply should not be remade. T...          1\n",
            "17  This movie made it into one of my top 10 most ...          0\n",
            "18  I remember this film,it was the first film i h...          1\n",
            "19  An awful film! It must have been up against so...          0\n",
            "20  After the success of Die Hard and it's sequels...          1\n",
            "21  I had the terrible misfortune of having to vie...          0\n",
            "22  What an absolutely stunning movie, if you have...          1\n",
            "23  First of all, let's get a few things straight ...          0\n",
            "24  This was the worst movie I saw at WorldFest an...          0\n",
            "25  The Karen Carpenter Story shows a little more ...          1\n",
            "26  \"The Cell\" is an exotic masterpiece, a dizzyin...          1\n",
            "27  This film tried to be too many things all at o...          0\n",
            "28  This movie was so frustrating. Everything seem...          0\n",
            "29  'War movie' is a Hollywood genre that has been...          1\n"
          ],
          "name": "stdout"
        }
      ]
    },
    {
      "cell_type": "markdown",
      "metadata": {
        "id": "zO9kia_0WZdR"
      },
      "source": [
        "# Models Implementation"
      ]
    },
    {
      "cell_type": "code",
      "metadata": {
        "colab": {
          "base_uri": "https://localhost:8080/"
        },
        "id": "5untm3CnW6ZS",
        "outputId": "774b513d-342e-44fc-a730-ef547838c613"
      },
      "source": [
        "from sklearn.feature_extraction.text import TfidfVectorizer\n",
        "from sklearn.metrics import accuracy_score\n",
        "\n",
        "Y = df_data_copy[\"sentiment\"].values\n",
        "# split the dataset into training data and test data\n",
        "from sklearn.model_selection import train_test_split\n",
        "X_train_NB, X_test_NB, Y_train_NB, Y_test_NB = train_test_split(df_data_copy, Y, \n",
        "                        test_size= 0.20, random_state=100, stratify=Y)\n",
        "\n",
        "vec = TfidfVectorizer()\n",
        "train_vectors = vec.fit_transform(X_train_NB['review'])\n",
        "test_vectors = vec.transform(X_test_NB['review'])\n",
        "\n",
        "print(\"train data : \", train_vectors.shape)\n",
        "print(\"test data : \", test_vectors.shape)"
      ],
      "execution_count": 12,
      "outputs": [
        {
          "output_type": "stream",
          "text": [
            "train data :  (39665, 93100)\n",
            "test data :  (9917, 93100)\n"
          ],
          "name": "stdout"
        }
      ]
    },
    {
      "cell_type": "markdown",
      "metadata": {
        "id": "EFGNsO05Rqhd"
      },
      "source": [
        "## Naive Bayes"
      ]
    },
    {
      "cell_type": "code",
      "metadata": {
        "colab": {
          "base_uri": "https://localhost:8080/",
          "height": 556
        },
        "id": "8WpAhlFwXntk",
        "outputId": "e4249e2f-e974-4fe1-9009-7929b0708879"
      },
      "source": [
        "# Classify using Naive Bayes 86%\n",
        "\n",
        "from sklearn.naive_bayes import MultinomialNB\n",
        "MNB_clf = MultinomialNB()\n",
        "\n",
        "# fit model no training data\n",
        "MNB_clf.fit(train_vectors, Y_train_NB)\n",
        "\n",
        "# making predictions on the testing set \n",
        "predicted = MNB_clf.predict(test_vectors)\n",
        "\n",
        "# Classification report\n",
        "from sklearn import metrics\n",
        "print(\"Classification report : \\n\", MNB_clf,\"\\n\", \n",
        "      metrics.classification_report(Y_test_NB, predicted))\n",
        "disp = metrics.plot_confusion_matrix(MNB_clf, test_vectors, Y_test_NB)\n",
        "disp.figure_.suptitle(\"Confusion Matrix\")\n",
        "print(\"Confusion matrix: \\n\", disp.confusion_matrix)"
      ],
      "execution_count": 12,
      "outputs": [
        {
          "output_type": "stream",
          "text": [
            "Classification report : \n",
            " MultinomialNB(alpha=1.0, class_prior=None, fit_prior=True) \n",
            "               precision    recall  f1-score   support\n",
            "\n",
            "           0       0.85      0.88      0.87      4940\n",
            "           1       0.88      0.84      0.86      4977\n",
            "\n",
            "    accuracy                           0.86      9917\n",
            "   macro avg       0.86      0.86      0.86      9917\n",
            "weighted avg       0.87      0.86      0.86      9917\n",
            "\n",
            "Confusion matrix: \n",
            " [[4370  570]\n",
            " [ 775 4202]]\n"
          ],
          "name": "stdout"
        },
        {
          "output_type": "display_data",
          "data": {
            "image/png": "[encoded data removed]",
            "text/plain": [
              "<Figure size 432x288 with 2 Axes>"
            ]
          },
          "metadata": {
            "tags": [],
            "needs_background": "light"
          }
        }
      ]
    },
    {
      "cell_type": "markdown",
      "metadata": {
        "id": "1G-vYHvKR1HI"
      },
      "source": [
        "## Logoistic Regression"
      ]
    },
    {
      "cell_type": "code",
      "metadata": {
        "colab": {
          "base_uri": "https://localhost:8080/",
          "height": 627
        },
        "id": "Lm3L3OQyXvAc",
        "outputId": "84e11796-fe58-4ac4-e189-8e8d7bf39959"
      },
      "source": [
        "# Classify using Logistic Regression 90%\n",
        "\n",
        "from sklearn.linear_model import LogisticRegression\n",
        "# all parameters not specified are set to their defaults\n",
        "logisticRegr = LogisticRegression(C= 10, penalty = 'l2', solver  = 'newton-cg')\n",
        "\n",
        "# fit model no training data\n",
        "logisticRegr.fit(train_vectors, Y_train_NB)\n",
        "\n",
        "# making predictions on the testing set \n",
        "predicted = logisticRegr.predict(test_vectors)\n",
        "\n",
        "# Classification report\n",
        "from sklearn import metrics\n",
        "print(\"Classification report : \\n\", logisticRegr,\"\\n\", \n",
        "      metrics.classification_report(Y_test_NB, predicted))\n",
        "disp = metrics.plot_confusion_matrix(logisticRegr, test_vectors, Y_test_NB)\n",
        "disp.figure_.suptitle(\"Confusion Matrix\")\n",
        "print(\"Confusion matrix: \\n\", disp.confusion_matrix)\n"
      ],
      "execution_count": 42,
      "outputs": [
        {
          "output_type": "stream",
          "text": [
            "Classification report : \n",
            " LogisticRegression(C=10, class_weight=None, dual=False, fit_intercept=True,\n",
            "                   intercept_scaling=1, l1_ratio=None, max_iter=100,\n",
            "                   multi_class='auto', n_jobs=None, penalty='l2',\n",
            "                   random_state=None, solver='newton-cg', tol=0.0001, verbose=0,\n",
            "                   warm_start=False) \n",
            "               precision    recall  f1-score   support\n",
            "\n",
            "           0       0.91      0.90      0.90      4940\n",
            "           1       0.90      0.91      0.91      4977\n",
            "\n",
            "    accuracy                           0.91      9917\n",
            "   macro avg       0.91      0.91      0.91      9917\n",
            "weighted avg       0.91      0.91      0.91      9917\n",
            "\n",
            "Confusion matrix: \n",
            " [[4425  515]\n",
            " [ 424 4553]]\n"
          ],
          "name": "stdout"
        },
        {
          "output_type": "display_data",
          "data": {
            "image/png": "[encoded data removed]",
            "text/plain": [
              "<Figure size 432x288 with 2 Axes>"
            ]
          },
          "metadata": {
            "tags": [],
            "needs_background": "light"
          }
        }
      ]
    },
    {
      "cell_type": "markdown",
      "metadata": {
        "id": "HtZ1CHLcR57b"
      },
      "source": [
        "## SVM"
      ]
    },
    {
      "cell_type": "code",
      "metadata": {
        "id": "MB7nhg4hX0o_"
      },
      "source": [
        "# Classify using SVM\n",
        "from sklearn.svm import SVC\n",
        "# all parameters not specified are set to their defaults\n",
        "svmClassifier = SVC(kernel=\"linear\")\n",
        "#svm_classifier = SVC()\n",
        "#svm_classifier = SVC(kernel=\"poly\", degree=5, C=10, gamma=0.01)\n",
        "#svm_classifier = SVC(kernel=\"sigmoid\", C=10, gamma=0.001)\n",
        "#svm_classifier = SVC(kernel=\"rbf\", C=300, gamma=0.001)\n",
        "\n",
        "\n",
        "# fit model no training data\n",
        "svmClassifier.fit(train_vectors, Y_train_NB)\n",
        "\n",
        "# making predictions on the testing set \n",
        "predicted = svmClassifier.predict(test_vectors)\n",
        "\n",
        "# Classification report\n",
        "from sklearn import metrics\n",
        "print(\"Classification report : \\n\", svmClassifier,\"\\n\", \n",
        "      metrics.classification_report(Y_test_NB, predicted))\n",
        "disp = metrics.plot_confusion_matrix(svmClassifier, test_vectors, Y_test_NB)\n",
        "disp.figure_.suptitle(\"Confusion Matrix\")\n",
        "print(\"Confusion matrix: \\n\", disp.confusion_matrix)\n"
      ],
      "execution_count": null,
      "outputs": []
    },
    {
      "cell_type": "markdown",
      "metadata": {
        "id": "tB3rLtq0R_3e"
      },
      "source": [
        "## KNN"
      ]
    },
    {
      "cell_type": "code",
      "metadata": {
        "colab": {
          "base_uri": "https://localhost:8080/",
          "height": 592
        },
        "id": "FXJWa9GTtcFf",
        "outputId": "25f3d555-c20f-4600-899e-222d07af8dd2"
      },
      "source": [
        "# Classify using KNN 77%\n",
        "\n",
        "from sklearn.neighbors import KNeighborsClassifier \n",
        "# Create the classifier\n",
        "\"\"\"\n",
        "algorithm{‘auto’, ‘ball_tree’, ‘kd_tree’, ‘brute’}, default=’auto’\n",
        "Algorithm used to compute the nearest neighbors:\n",
        "\n",
        "‘ball_tree’ will use BallTree\n",
        "\n",
        "‘kd_tree’ will use KDTree\n",
        "\n",
        "‘brute’ will use a brute-force search.\n",
        "\n",
        "‘auto’ will attempt to decide the most appropriate algorithm based on the \n",
        "values passed to fit method.\n",
        "\"\"\"\n",
        "knn_cls = KNeighborsClassifier(n_neighbors = 20) \n",
        "\n",
        "# Train the classifier\n",
        "knn_cls.fit(train_vectors,Y_train_NB)\n",
        "\n",
        "# Predict the value of X_test\n",
        "predicted = knn_cls.predict(test_vectors)\n",
        "\n",
        "# Classification report\n",
        "from sklearn import metrics\n",
        "\n",
        "print(\"Classifier : \", knn_cls)\n",
        "print(\"Classification report for classifier : \\n\",\n",
        "      metrics.classification_report(Y_test_NB, predicted))\n",
        "\n",
        "disp = metrics.plot_confusion_matrix(knn_cls, test_vectors, Y_test_NB)\n",
        "disp.figure_.suptitle(\"Confusion Matrix\")\n",
        "print(\"Confusion matrix: \\n\", disp.confusion_matrix)\n"
      ],
      "execution_count": 14,
      "outputs": [
        {
          "output_type": "stream",
          "text": [
            "Classifier :  KNeighborsClassifier(algorithm='auto', leaf_size=30, metric='minkowski',\n",
            "                     metric_params=None, n_jobs=None, n_neighbors=20, p=2,\n",
            "                     weights='uniform')\n",
            "Classification report for classifier : \n",
            "               precision    recall  f1-score   support\n",
            "\n",
            "           0       0.74      0.84      0.78      4940\n",
            "           1       0.81      0.70      0.75      4977\n",
            "\n",
            "    accuracy                           0.77      9917\n",
            "   macro avg       0.77      0.77      0.77      9917\n",
            "weighted avg       0.77      0.77      0.77      9917\n",
            "\n",
            "Confusion matrix: \n",
            " [[4138  802]\n",
            " [1482 3495]]\n"
          ],
          "name": "stdout"
        },
        {
          "output_type": "display_data",
          "data": {
            "image/png": "[encoded data removed]",
            "text/plain": [
              "<Figure size 432x288 with 2 Axes>"
            ]
          },
          "metadata": {
            "tags": [],
            "needs_background": "light"
          }
        }
      ]
    },
    {
      "cell_type": "markdown",
      "metadata": {
        "id": "hC5IOWx1SFJe"
      },
      "source": [
        "## SGD"
      ]
    },
    {
      "cell_type": "code",
      "metadata": {
        "colab": {
          "base_uri": "https://localhost:8080/",
          "height": 645
        },
        "id": "TNRvI-A_X32j",
        "outputId": "a4185fc9-ad9b-4a9a-9490-6b9d1f056d9f"
      },
      "source": [
        "# Classify using SGD 90%\n",
        "\n",
        "from sklearn.linear_model import SGDClassifier\n",
        "# all parameters not specified are set to their defaults\n",
        "sgdClassifier = SGDClassifier()\n",
        "\n",
        "# fit model no training data\n",
        "sgdClassifier.fit(train_vectors, Y_train_NB)\n",
        "\n",
        "# making predictions on the testing set \n",
        "predicted = sgdClassifier.predict(test_vectors)\n",
        "\n",
        "# Classification report\n",
        "from sklearn import metrics\n",
        "print(\"Classification report : \\n\", sgdClassifier,\"\\n\", \n",
        "      metrics.classification_report(Y_test_NB, predicted))\n",
        "disp = metrics.plot_confusion_matrix(sgdClassifier, test_vectors, Y_test_NB)\n",
        "disp.figure_.suptitle(\"Confusion Matrix\")\n",
        "print(\"Confusion matrix: \\n\", disp.confusion_matrix)\n"
      ],
      "execution_count": 33,
      "outputs": [
        {
          "output_type": "stream",
          "text": [
            "Classification report : \n",
            " SGDClassifier(alpha=0.0001, average=False, class_weight=None,\n",
            "              early_stopping=False, epsilon=0.1, eta0=0.0, fit_intercept=True,\n",
            "              l1_ratio=0.15, learning_rate='optimal', loss='hinge',\n",
            "              max_iter=1000, n_iter_no_change=5, n_jobs=None, penalty='l2',\n",
            "              power_t=0.5, random_state=None, shuffle=True, tol=0.001,\n",
            "              validation_fraction=0.1, verbose=0, warm_start=False) \n",
            "               precision    recall  f1-score   support\n",
            "\n",
            "           0       0.91      0.89      0.90      4940\n",
            "           1       0.89      0.92      0.90      4977\n",
            "\n",
            "    accuracy                           0.90      9917\n",
            "   macro avg       0.90      0.90      0.90      9917\n",
            "weighted avg       0.90      0.90      0.90      9917\n",
            "\n",
            "Confusion matrix: \n",
            " [[4379  561]\n",
            " [ 411 4566]]\n"
          ],
          "name": "stdout"
        },
        {
          "output_type": "display_data",
          "data": {
            "image/png": "[encoded data removed]",
            "text/plain": [
              "<Figure size 432x288 with 2 Axes>"
            ]
          },
          "metadata": {
            "tags": [],
            "needs_background": "light"
          }
        }
      ]
    },
    {
      "cell_type": "markdown",
      "metadata": {
        "id": "PGg2N2t2SNZm"
      },
      "source": [
        "## XGBoosting"
      ]
    },
    {
      "cell_type": "code",
      "metadata": {
        "id": "_mpjv4KSX6i3"
      },
      "source": [
        "# Classify using XGBoosting 83%\n",
        "#import xgboost as xgb\n",
        "from xgboost import XGBClassifier\n",
        "XG_clf = XGBClassifier(max_depth=10, learning_rate=0.01, n_estimators=500, \n",
        "                       random_state=100)\n",
        "\n",
        "# fit model no training data\n",
        "XG_clf.fit(train_vectors, Y_train_NB)\n",
        "\n",
        "# make predictions for test data\n",
        "y_pred = XG_clf.predict(test_vectors)\n",
        "predicted = [round(value) for value in y_pred]\n",
        "\n",
        "# Classification report\n",
        "from sklearn import metrics\n",
        "print(\"Classification report : \\n\", XG_clf,\"\\n\", \n",
        "      metrics.classification_report(Y_test_NB, predicted))\n",
        "disp = metrics.plot_confusion_matrix(XG_clf, test_vectors, Y_test_NB)\n",
        "disp.figure_.suptitle(\"Confusion Matrix\")\n",
        "print(\"Confusion matrix: \\n\", disp.confusion_matrix)\n"
      ],
      "execution_count": null,
      "outputs": []
    },
    {
      "cell_type": "markdown",
      "metadata": {
        "id": "gNBq0rwgSL6A"
      },
      "source": [
        "## MLP Classifier"
      ]
    },
    {
      "cell_type": "code",
      "metadata": {
        "colab": {
          "base_uri": "https://localhost:8080/",
          "height": 716
        },
        "id": "GfgRn8zfX_h4",
        "outputId": "f067e1e3-d0ba-4eaf-8aa5-c96cc16a0eb3"
      },
      "source": [
        "# Classify using MLPClassifier 88% -> (50,50)\n",
        "from sklearn.neural_network import MLPClassifier\n",
        "\n",
        "mlp = MLPClassifier(hidden_layer_sizes=(50,50, ), batch_size=64,\n",
        "                    solver=\"adam\", alpha=0.005, activation=\"logistic\", \n",
        "                    max_iter=50000, random_state=42)\n",
        "\n",
        "\n",
        "# fit model no training data\n",
        "mlp.fit(train_vectors, Y_train_NB)\n",
        "\n",
        "# make predictions for test data\n",
        "predicted = mlp.predict(test_vectors)\n",
        "\n",
        "# Classification report\n",
        "from sklearn import metrics\n",
        "print(\"Classification report : \\n\", mlp,\"\\n\", \n",
        "      metrics.classification_report(Y_test_NB, predicted))\n",
        "disp = metrics.plot_confusion_matrix(mlp, test_vectors, Y_test_NB)\n",
        "disp.figure_.suptitle(\"Confusion Matrix\")\n",
        "print(\"Confusion matrix: \\n\", disp.confusion_matrix)\n"
      ],
      "execution_count": 16,
      "outputs": [
        {
          "output_type": "stream",
          "text": [
            "/usr/local/lib/python3.7/dist-packages/sklearn/neural_network/_multilayer_perceptron.py:573: UserWarning: Training interrupted by user.\n",
            "  warnings.warn(\"Training interrupted by user.\")\n"
          ],
          "name": "stderr"
        },
        {
          "output_type": "stream",
          "text": [
            "Classification report : \n",
            " MLPClassifier(activation='logistic', alpha=0.005, batch_size=64, beta_1=0.9,\n",
            "              beta_2=0.999, early_stopping=False, epsilon=1e-08,\n",
            "              hidden_layer_sizes=(50, 50), learning_rate='constant',\n",
            "              learning_rate_init=0.001, max_fun=15000, max_iter=50000,\n",
            "              momentum=0.9, n_iter_no_change=10, nesterovs_momentum=True,\n",
            "              power_t=0.5, random_state=42, shuffle=True, solver='adam',\n",
            "              tol=0.0001, validation_fraction=0.1, verbose=False,\n",
            "              warm_start=False) \n",
            "               precision    recall  f1-score   support\n",
            "\n",
            "           0       0.90      0.86      0.88      4940\n",
            "           1       0.86      0.91      0.89      4977\n",
            "\n",
            "    accuracy                           0.88      9917\n",
            "   macro avg       0.88      0.88      0.88      9917\n",
            "weighted avg       0.88      0.88      0.88      9917\n",
            "\n",
            "Confusion matrix: \n",
            " [[4230  710]\n",
            " [ 463 4514]]\n"
          ],
          "name": "stdout"
        },
        {
          "output_type": "display_data",
          "data": {
            "image/png": "[encoded data removed]",
            "text/plain": [
              "<Figure size 432x288 with 2 Axes>"
            ]
          },
          "metadata": {
            "tags": [],
            "needs_background": "light"
          }
        }
      ]
    },
    {
      "cell_type": "markdown",
      "metadata": {
        "id": "ic0C3tLoWhqZ"
      },
      "source": [
        "# Cross Validation"
      ]
    },
    {
      "cell_type": "code",
      "metadata": {
        "colab": {
          "base_uri": "https://localhost:8080/"
        },
        "id": "7IUFXtGnSHFB",
        "outputId": "db0d82b1-6571-4b30-a9d1-dbacc454717b"
      },
      "source": [
        "# Cross-validation\n",
        "from sklearn.feature_extraction.text import TfidfVectorizer\n",
        "from sklearn.metrics import accuracy_score\n",
        "from sklearn.svm import SVC\n",
        "from sklearn.model_selection import cross_val_score\n",
        "\n",
        "Y = df_data_copy[\"sentiment\"].values\n",
        "vec = TfidfVectorizer()\n",
        "\n",
        "# split the dataset into training data and test data\n",
        "from sklearn.model_selection import train_test_split\n",
        "X_train_NB, X_test_NB, Y_train_NB, Y_test_NB = train_test_split(df_data_copy, Y, \n",
        "                        test_size= 0.20, random_state=100, stratify=Y)\n",
        "\n",
        "\n",
        "\n",
        "train_vectors = vec.fit_transform(X_train_NB['review'])\n",
        "test_vectors = vec.transform(X_test_NB['review'])\n",
        "\n",
        "print(\"\\n Stratified K-fold Cross-Validation : *********\")\n",
        "from sklearn.model_selection import StratifiedKFold\n",
        "skfold = StratifiedKFold(n_splits=10, random_state=100)\n",
        "model_3 = LogisticRegression()\n",
        "results_model_3 = cross_val_score(model_3, train_vectors, Y_train_NB, cv=skfold)\n",
        "print(\"Scores   3 :\",results_model_3)\n",
        "print(\"Accuracy 3 :\",results_model_3.mean())\n",
        "print(\"std      3 :\",np.std(results_model_3))"
      ],
      "execution_count": 46,
      "outputs": [
        {
          "output_type": "stream",
          "text": [
            "\n",
            " Stratified K-fold Cross-Validation : *********\n"
          ],
          "name": "stdout"
        },
        {
          "output_type": "stream",
          "text": [
            "/usr/local/lib/python3.7/dist-packages/sklearn/model_selection/_split.py:296: FutureWarning: Setting a random_state has no effect since shuffle is False. This will raise an error in 0.24. You should leave random_state to its default (None), or set shuffle=True.\n",
            "  FutureWarning\n",
            "/usr/local/lib/python3.7/dist-packages/sklearn/linear_model/_logistic.py:940: ConvergenceWarning: lbfgs failed to converge (status=1):\n",
            "STOP: TOTAL NO. of ITERATIONS REACHED LIMIT.\n",
            "\n",
            "Increase the number of iterations (max_iter) or scale the data as shown in:\n",
            "    https://scikit-learn.org/stable/modules/preprocessing.html\n",
            "Please also refer to the documentation for alternative solver options:\n",
            "    https://scikit-learn.org/stable/modules/linear_model.html#logistic-regression\n",
            "  extra_warning_msg=_LOGISTIC_SOLVER_CONVERGENCE_MSG)\n",
            "/usr/local/lib/python3.7/dist-packages/sklearn/linear_model/_logistic.py:940: ConvergenceWarning: lbfgs failed to converge (status=1):\n",
            "STOP: TOTAL NO. of ITERATIONS REACHED LIMIT.\n",
            "\n",
            "Increase the number of iterations (max_iter) or scale the data as shown in:\n",
            "    https://scikit-learn.org/stable/modules/preprocessing.html\n",
            "Please also refer to the documentation for alternative solver options:\n",
            "    https://scikit-learn.org/stable/modules/linear_model.html#logistic-regression\n",
            "  extra_warning_msg=_LOGISTIC_SOLVER_CONVERGENCE_MSG)\n",
            "/usr/local/lib/python3.7/dist-packages/sklearn/linear_model/_logistic.py:940: ConvergenceWarning: lbfgs failed to converge (status=1):\n",
            "STOP: TOTAL NO. of ITERATIONS REACHED LIMIT.\n",
            "\n",
            "Increase the number of iterations (max_iter) or scale the data as shown in:\n",
            "    https://scikit-learn.org/stable/modules/preprocessing.html\n",
            "Please also refer to the documentation for alternative solver options:\n",
            "    https://scikit-learn.org/stable/modules/linear_model.html#logistic-regression\n",
            "  extra_warning_msg=_LOGISTIC_SOLVER_CONVERGENCE_MSG)\n"
          ],
          "name": "stderr"
        },
        {
          "output_type": "stream",
          "text": [
            "Scores   3 : [0.89337031 0.8946307  0.89942022 0.89689942 0.89110159 0.89384771\n",
            " 0.89233485 0.89460414 0.89687342 0.89006556]\n",
            "Accuracy 3 : 0.8943147901605288\n",
            "std      3 : 0.0026997568256627424\n"
          ],
          "name": "stdout"
        }
      ]
    },
    {
      "cell_type": "markdown",
      "metadata": {
        "id": "08LcdPX6Wlrk"
      },
      "source": [
        "# Hyperparameters Tuning"
      ]
    },
    {
      "cell_type": "code",
      "metadata": {
        "colab": {
          "base_uri": "https://localhost:8080/",
          "height": 1000
        },
        "id": "mlMLxsOZTysn",
        "outputId": "9da5e082-b9ba-40b2-a8e5-bd834c4f994b"
      },
      "source": [
        "# Hyperparameters Tuning\n",
        "from sklearn.model_selection import train_test_split\n",
        "from sklearn.model_selection import GridSearchCV\n",
        "from sklearn.metrics import classification_report\n",
        "from sklearn.svm import SVC\n",
        "\n",
        "param_grid = [\n",
        "  # {\"C\": [1, 10, 100, 1000], \"kernel\": [\"linear\"]},\n",
        "  # {\"C\": [2, 20, 200, 2000], \"gamma\": [0.001, 0.0001], \"kernel\": [\"rbf\"]},\n",
        "  # {\"hidden_layer_sizes\":[(100,50, ) ,(100,100)], \"batch_size\":[64],\"solver\":[\"adam\",\"sgd\"], \"alpha\":[0.005 , 0.0001], \"activation\":[\"logistic\"], \"max_iter\":[50000], \"random_state\":[42]}\n",
        "   {\"solver\" : ['newton-cg', 'lbfgs', 'liblinear'], \"penalty\" : ['l2'], \"C\" : [100, 10, 1.0, 0.1, 0.01]}  \n",
        "]\n",
        "\n",
        "\n",
        "grid = GridSearchCV(LogisticRegression(), param_grid, refit = True, verbose = 1) \n",
        "grid.fit(train_vectors, Y_train_NB)\n",
        "\n",
        "print(\"-----------------------------------------------------------------------\")\n",
        "print(\"The best parameter after tuning :\",grid.best_params_)  \n",
        "print(\"Our model looks after hyper-parameter tuning\",grid.best_estimator_)\n",
        "\n",
        "predicted = grid.predict(test_vectors)\n",
        "\n",
        "from sklearn import metrics\n",
        "print(\"Classification report : \\n\", grid,\"\\n\", \n",
        "      metrics.classification_report(Y_test_NB, predicted))\n",
        "disp = metrics.plot_confusion_matrix(grid, test_vectors, Y_test_NB)\n",
        "disp.figure_.suptitle(\"Confusion Matrix\")\n",
        "print(\"Confusion matrix: \\n\", disp.confusion_matrix)\n"
      ],
      "execution_count": 45,
      "outputs": [
        {
          "output_type": "stream",
          "text": [
            "Fitting 5 folds for each of 15 candidates, totalling 75 fits\n"
          ],
          "name": "stdout"
        },
        {
          "output_type": "stream",
          "text": [
            "[Parallel(n_jobs=1)]: Using backend SequentialBackend with 1 concurrent workers.\n",
            "/usr/local/lib/python3.7/dist-packages/sklearn/linear_model/_logistic.py:940: ConvergenceWarning: lbfgs failed to converge (status=1):\n",
            "STOP: TOTAL NO. of ITERATIONS REACHED LIMIT.\n",
            "\n",
            "Increase the number of iterations (max_iter) or scale the data as shown in:\n",
            "    https://scikit-learn.org/stable/modules/preprocessing.html\n",
            "Please also refer to the documentation for alternative solver options:\n",
            "    https://scikit-learn.org/stable/modules/linear_model.html#logistic-regression\n",
            "  extra_warning_msg=_LOGISTIC_SOLVER_CONVERGENCE_MSG)\n",
            "/usr/local/lib/python3.7/dist-packages/sklearn/linear_model/_logistic.py:940: ConvergenceWarning: lbfgs failed to converge (status=1):\n",
            "STOP: TOTAL NO. of ITERATIONS REACHED LIMIT.\n",
            "\n",
            "Increase the number of iterations (max_iter) or scale the data as shown in:\n",
            "    https://scikit-learn.org/stable/modules/preprocessing.html\n",
            "Please also refer to the documentation for alternative solver options:\n",
            "    https://scikit-learn.org/stable/modules/linear_model.html#logistic-regression\n",
            "  extra_warning_msg=_LOGISTIC_SOLVER_CONVERGENCE_MSG)\n",
            "/usr/local/lib/python3.7/dist-packages/sklearn/linear_model/_logistic.py:940: ConvergenceWarning: lbfgs failed to converge (status=1):\n",
            "STOP: TOTAL NO. of ITERATIONS REACHED LIMIT.\n",
            "\n",
            "Increase the number of iterations (max_iter) or scale the data as shown in:\n",
            "    https://scikit-learn.org/stable/modules/preprocessing.html\n",
            "Please also refer to the documentation for alternative solver options:\n",
            "    https://scikit-learn.org/stable/modules/linear_model.html#logistic-regression\n",
            "  extra_warning_msg=_LOGISTIC_SOLVER_CONVERGENCE_MSG)\n",
            "/usr/local/lib/python3.7/dist-packages/sklearn/linear_model/_logistic.py:940: ConvergenceWarning: lbfgs failed to converge (status=1):\n",
            "STOP: TOTAL NO. of ITERATIONS REACHED LIMIT.\n",
            "\n",
            "Increase the number of iterations (max_iter) or scale the data as shown in:\n",
            "    https://scikit-learn.org/stable/modules/preprocessing.html\n",
            "Please also refer to the documentation for alternative solver options:\n",
            "    https://scikit-learn.org/stable/modules/linear_model.html#logistic-regression\n",
            "  extra_warning_msg=_LOGISTIC_SOLVER_CONVERGENCE_MSG)\n",
            "/usr/local/lib/python3.7/dist-packages/sklearn/linear_model/_logistic.py:940: ConvergenceWarning: lbfgs failed to converge (status=1):\n",
            "STOP: TOTAL NO. of ITERATIONS REACHED LIMIT.\n",
            "\n",
            "Increase the number of iterations (max_iter) or scale the data as shown in:\n",
            "    https://scikit-learn.org/stable/modules/preprocessing.html\n",
            "Please also refer to the documentation for alternative solver options:\n",
            "    https://scikit-learn.org/stable/modules/linear_model.html#logistic-regression\n",
            "  extra_warning_msg=_LOGISTIC_SOLVER_CONVERGENCE_MSG)\n",
            "/usr/local/lib/python3.7/dist-packages/sklearn/linear_model/_logistic.py:940: ConvergenceWarning: lbfgs failed to converge (status=1):\n",
            "STOP: TOTAL NO. of ITERATIONS REACHED LIMIT.\n",
            "\n",
            "Increase the number of iterations (max_iter) or scale the data as shown in:\n",
            "    https://scikit-learn.org/stable/modules/preprocessing.html\n",
            "Please also refer to the documentation for alternative solver options:\n",
            "    https://scikit-learn.org/stable/modules/linear_model.html#logistic-regression\n",
            "  extra_warning_msg=_LOGISTIC_SOLVER_CONVERGENCE_MSG)\n",
            "/usr/local/lib/python3.7/dist-packages/sklearn/linear_model/_logistic.py:940: ConvergenceWarning: lbfgs failed to converge (status=1):\n",
            "STOP: TOTAL NO. of ITERATIONS REACHED LIMIT.\n",
            "\n",
            "Increase the number of iterations (max_iter) or scale the data as shown in:\n",
            "    https://scikit-learn.org/stable/modules/preprocessing.html\n",
            "Please also refer to the documentation for alternative solver options:\n",
            "    https://scikit-learn.org/stable/modules/linear_model.html#logistic-regression\n",
            "  extra_warning_msg=_LOGISTIC_SOLVER_CONVERGENCE_MSG)\n",
            "/usr/local/lib/python3.7/dist-packages/sklearn/linear_model/_logistic.py:940: ConvergenceWarning: lbfgs failed to converge (status=1):\n",
            "STOP: TOTAL NO. of ITERATIONS REACHED LIMIT.\n",
            "\n",
            "Increase the number of iterations (max_iter) or scale the data as shown in:\n",
            "    https://scikit-learn.org/stable/modules/preprocessing.html\n",
            "Please also refer to the documentation for alternative solver options:\n",
            "    https://scikit-learn.org/stable/modules/linear_model.html#logistic-regression\n",
            "  extra_warning_msg=_LOGISTIC_SOLVER_CONVERGENCE_MSG)\n",
            "/usr/local/lib/python3.7/dist-packages/sklearn/linear_model/_logistic.py:940: ConvergenceWarning: lbfgs failed to converge (status=1):\n",
            "STOP: TOTAL NO. of ITERATIONS REACHED LIMIT.\n",
            "\n",
            "Increase the number of iterations (max_iter) or scale the data as shown in:\n",
            "    https://scikit-learn.org/stable/modules/preprocessing.html\n",
            "Please also refer to the documentation for alternative solver options:\n",
            "    https://scikit-learn.org/stable/modules/linear_model.html#logistic-regression\n",
            "  extra_warning_msg=_LOGISTIC_SOLVER_CONVERGENCE_MSG)\n",
            "/usr/local/lib/python3.7/dist-packages/sklearn/linear_model/_logistic.py:940: ConvergenceWarning: lbfgs failed to converge (status=1):\n",
            "STOP: TOTAL NO. of ITERATIONS REACHED LIMIT.\n",
            "\n",
            "Increase the number of iterations (max_iter) or scale the data as shown in:\n",
            "    https://scikit-learn.org/stable/modules/preprocessing.html\n",
            "Please also refer to the documentation for alternative solver options:\n",
            "    https://scikit-learn.org/stable/modules/linear_model.html#logistic-regression\n",
            "  extra_warning_msg=_LOGISTIC_SOLVER_CONVERGENCE_MSG)\n",
            "/usr/local/lib/python3.7/dist-packages/sklearn/linear_model/_logistic.py:940: ConvergenceWarning: lbfgs failed to converge (status=1):\n",
            "STOP: TOTAL NO. of ITERATIONS REACHED LIMIT.\n",
            "\n",
            "Increase the number of iterations (max_iter) or scale the data as shown in:\n",
            "    https://scikit-learn.org/stable/modules/preprocessing.html\n",
            "Please also refer to the documentation for alternative solver options:\n",
            "    https://scikit-learn.org/stable/modules/linear_model.html#logistic-regression\n",
            "  extra_warning_msg=_LOGISTIC_SOLVER_CONVERGENCE_MSG)\n",
            "[Parallel(n_jobs=1)]: Done  75 out of  75 | elapsed:  3.9min finished\n"
          ],
          "name": "stderr"
        },
        {
          "output_type": "stream",
          "text": [
            "-----------------------------------------------------------------------\n",
            "The best parameter after tuning : {'C': 10, 'penalty': 'l2', 'solver': 'newton-cg'}\n",
            "Our model looks after hyper-parameter tuning LogisticRegression(C=10, class_weight=None, dual=False, fit_intercept=True,\n",
            "                   intercept_scaling=1, l1_ratio=None, max_iter=100,\n",
            "                   multi_class='auto', n_jobs=None, penalty='l2',\n",
            "                   random_state=None, solver='newton-cg', tol=0.0001, verbose=0,\n",
            "                   warm_start=False)\n",
            "Classification report : \n",
            " GridSearchCV(cv=None, error_score=nan,\n",
            "             estimator=LogisticRegression(C=1.0, class_weight=None, dual=False,\n",
            "                                          fit_intercept=True,\n",
            "                                          intercept_scaling=1, l1_ratio=None,\n",
            "                                          max_iter=100, multi_class='auto',\n",
            "                                          n_jobs=None, penalty='l2',\n",
            "                                          random_state=None, solver='lbfgs',\n",
            "                                          tol=0.0001, verbose=0,\n",
            "                                          warm_start=False),\n",
            "             iid='deprecated', n_jobs=None,\n",
            "             param_grid=[{'C': [100, 10, 1.0, 0.1, 0.01], 'penalty': ['l2'],\n",
            "                          'solver': ['newton-cg', 'lbfgs', 'liblinear']}],\n",
            "             pre_dispatch='2*n_jobs', refit=True, return_train_score=False,\n",
            "             scoring=None, verbose=1) \n",
            "               precision    recall  f1-score   support\n",
            "\n",
            "           0       0.91      0.90      0.90      4940\n",
            "           1       0.90      0.91      0.91      4977\n",
            "\n",
            "    accuracy                           0.91      9917\n",
            "   macro avg       0.91      0.91      0.91      9917\n",
            "weighted avg       0.91      0.91      0.91      9917\n",
            "\n",
            "Confusion matrix: \n",
            " [[4425  515]\n",
            " [ 424 4553]]\n"
          ],
          "name": "stdout"
        },
        {
          "output_type": "display_data",
          "data": {
            "image/png": "[encoded data removed]",
            "text/plain": [
              "<Figure size 432x288 with 2 Axes>"
            ]
          },
          "metadata": {
            "tags": [],
            "needs_background": "light"
          }
        }
      ]
    },
    {
      "cell_type": "markdown",
      "metadata": {
        "id": "WFutVf8CqKTl"
      },
      "source": [
        "# Evaluation"
      ]
    },
    {
      "cell_type": "code",
      "metadata": {
        "colab": {
          "base_uri": "https://localhost:8080/",
          "height": 0
        },
        "id": "AAOVANhzDEAZ",
        "outputId": "d05dd8a5-d5c3-460d-d6fc-89ef2c5d5864"
      },
      "source": [
        "# AUC-ROC curve (an evaluation metric for binary classification problems)\n",
        "\"\"\"\n",
        "AUC : The Area Under the Curve \n",
        "ROC : Receiver Characteristic Operator\n",
        "\n",
        "AUC measures the entire two-dimensional area underneath the entire ROC curve \n",
        "(think integral calculus) from (0,0) to (1,1).\n",
        "\n",
        "When AUC = 1, then the classifier is able to perfectly distinguish between all \n",
        "the Positive and the Negative class points correctly. If, however, the AUC had been 0, \n",
        "then the classifier would be predicting all Negatives as Positives, and all Positives as Negatives\n",
        "\"\"\"\n",
        "from sklearn import metrics\n",
        "disp = metrics.plot_roc_curve(logisticRegr, test_vectors, Y_test_NB)\n"
      ],
      "execution_count": 37,
      "outputs": [
        {
          "output_type": "display_data",
          "data": {
            "image/png": "[encoded data removed]",
            "text/plain": [
              "<Figure size 432x288 with 1 Axes>"
            ]
          },
          "metadata": {
            "tags": [],
            "needs_background": "light"
          }
        }
      ]
    },
    {
      "cell_type": "code",
      "metadata": {
        "colab": {
          "base_uri": "https://localhost:8080/",
          "height": 0
        },
        "id": "Kj0MobRzEJgu",
        "outputId": "781f3597-2297-452a-eb96-898d6ed3ed3c"
      },
      "source": [
        "\"\"\"\n",
        "A system with high recall but low precision returns many results, \n",
        "but most of its predicted labels are incorrect when compared to the training labels.\n",
        "\n",
        "A system with high precision but low recall is just the opposite, \n",
        "returning very few results, but most of its predicted labels are correct when \n",
        "compared to the training labels. \n",
        "\n",
        "An ideal system with high precision and high recall will return many results, \n",
        "with all results labeled correctly.\n",
        "\n",
        "AP : average precision AP = SUMn((Rn - Rn-1) * Pn) \n",
        "\"\"\"\n",
        "from sklearn.metrics import plot_precision_recall_curve\n",
        "\n",
        "disp = plot_precision_recall_curve(logisticRegr, test_vectors, Y_test_NB)\n",
        "disp.ax_.set_title(\"2-class Precision-Recall curve: \")\n"
      ],
      "execution_count": 38,
      "outputs": [
        {
          "output_type": "execute_result",
          "data": {
            "text/plain": [
              "Text(0.5, 1.0, '2-class Precision-Recall curve: ')"
            ]
          },
          "metadata": {
            "tags": []
          },
          "execution_count": 38
        },
        {
          "output_type": "display_data",
          "data": {
            "image/png": "[encoded data removed]",
            "text/plain": [
              "<Figure size 432x288 with 1 Axes>"
            ]
          },
          "metadata": {
            "tags": [],
            "needs_background": "light"
          }
        }
      ]
    },
    {
      "cell_type": "markdown",
      "metadata": {
        "id": "lhysd5RiWpNt"
      },
      "source": [
        "# Gradio (UI)"
      ]
    },
    {
      "cell_type": "code",
      "metadata": {
        "id": "OkOi1tkkdUil",
        "colab": {
          "base_uri": "https://localhost:8080/"
        },
        "outputId": "a5d6f001-58f2-47c6-81de-8936eb6313df"
      },
      "source": [
        "pip install gradio"
      ],
      "execution_count": 22,
      "outputs": [
        {
          "output_type": "stream",
          "text": [
            "Collecting gradio\n",
            "\u001b[?25l  Downloading https://files.pythonhosted.org/packages/a0/a1/ed5468487eff166f19a2e0f100e439f515a670f542ebc262ec282dcc1947/gradio-2.1.7-py3-none-any.whl (2.1MB)\n",
            "\u001b[K     |████████████████████████████████| 2.1MB 12.2MB/s \n",
            "\u001b[?25hCollecting markdown2\n",
            "  Downloading https://files.pythonhosted.org/packages/5d/be/3924cc1c0e12030b5225de2b4521f1dc729730773861475de26be64a0d2b/markdown2-2.4.0-py2.py3-none-any.whl\n",
            "Requirement already satisfied: matplotlib in /usr/local/lib/python3.7/dist-packages (from gradio) (3.2.2)\n",
            "Requirement already satisfied: requests in /usr/local/lib/python3.7/dist-packages (from gradio) (2.23.0)\n",
            "Requirement already satisfied: pillow in /usr/local/lib/python3.7/dist-packages (from gradio) (7.1.2)\n",
            "Requirement already satisfied: scipy in /usr/local/lib/python3.7/dist-packages (from gradio) (1.4.1)\n",
            "Collecting flask-cachebuster\n",
            "  Downloading https://files.pythonhosted.org/packages/74/47/f3e1fedfaad965c81c2f17234636d72f71450f1b4522ca26d2b7eb4a0a74/Flask-CacheBuster-1.0.0.tar.gz\n",
            "Collecting ffmpy\n",
            "  Downloading https://files.pythonhosted.org/packages/bf/e2/947df4b3d666bfdd2b0c6355d215c45d2d40f929451cb29a8a2995b29788/ffmpy-0.3.0.tar.gz\n",
            "Requirement already satisfied: numpy in /usr/local/lib/python3.7/dist-packages (from gradio) (1.19.5)\n",
            "Requirement already satisfied: pandas in /usr/local/lib/python3.7/dist-packages (from gradio) (1.1.5)\n",
            "Collecting analytics-python\n",
            "  Downloading https://files.pythonhosted.org/packages/30/81/2f447982f8d5dec5b56c10ca9ac53e5de2b2e9e2bdf7e091a05731f21379/analytics_python-1.3.1-py2.py3-none-any.whl\n",
            "Collecting Flask-Login\n",
            "  Downloading https://files.pythonhosted.org/packages/2b/83/ac5bf3279f969704fc1e63f050c50e10985e50fd340e6069ec7e09df5442/Flask_Login-0.5.0-py2.py3-none-any.whl\n",
            "Collecting paramiko\n",
            "\u001b[?25l  Downloading https://files.pythonhosted.org/packages/95/19/124e9287b43e6ff3ebb9cdea3e5e8e88475a873c05ccdf8b7e20d2c4201e/paramiko-2.7.2-py2.py3-none-any.whl (206kB)\n",
            "\u001b[K     |████████████████████████████████| 215kB 50.9MB/s \n",
            "\u001b[?25hCollecting Flask-Cors>=3.0.8\n",
            "  Downloading https://files.pythonhosted.org/packages/db/84/901e700de86604b1c4ef4b57110d4e947c218b9997adf5d38fa7da493bce/Flask_Cors-3.0.10-py2.py3-none-any.whl\n",
            "Requirement already satisfied: Flask>=1.1.1 in /usr/local/lib/python3.7/dist-packages (from gradio) (1.1.4)\n",
            "Collecting pycryptodome\n",
            "\u001b[?25l  Downloading https://files.pythonhosted.org/packages/ad/16/9627ab0493894a11c68e46000dbcc82f578c8ff06bc2980dcd016aea9bd3/pycryptodome-3.10.1-cp35-abi3-manylinux2010_x86_64.whl (1.9MB)\n",
            "\u001b[K     |████████████████████████████████| 1.9MB 40.5MB/s \n",
            "\u001b[?25hRequirement already satisfied: kiwisolver>=1.0.1 in /usr/local/lib/python3.7/dist-packages (from matplotlib->gradio) (1.3.1)\n",
            "Requirement already satisfied: python-dateutil>=2.1 in /usr/local/lib/python3.7/dist-packages (from matplotlib->gradio) (2.8.1)\n",
            "Requirement already satisfied: cycler>=0.10 in /usr/local/lib/python3.7/dist-packages (from matplotlib->gradio) (0.10.0)\n",
            "Requirement already satisfied: pyparsing!=2.0.4,!=2.1.2,!=2.1.6,>=2.0.1 in /usr/local/lib/python3.7/dist-packages (from matplotlib->gradio) (2.4.7)\n",
            "Requirement already satisfied: chardet<4,>=3.0.2 in /usr/local/lib/python3.7/dist-packages (from requests->gradio) (3.0.4)\n",
            "Requirement already satisfied: idna<3,>=2.5 in /usr/local/lib/python3.7/dist-packages (from requests->gradio) (2.10)\n",
            "Requirement already satisfied: certifi>=2017.4.17 in /usr/local/lib/python3.7/dist-packages (from requests->gradio) (2021.5.30)\n",
            "Requirement already satisfied: urllib3!=1.25.0,!=1.25.1,<1.26,>=1.21.1 in /usr/local/lib/python3.7/dist-packages (from requests->gradio) (1.24.3)\n",
            "Requirement already satisfied: pytz>=2017.2 in /usr/local/lib/python3.7/dist-packages (from pandas->gradio) (2018.9)\n",
            "Collecting backoff==1.10.0\n",
            "  Downloading https://files.pythonhosted.org/packages/f0/32/c5dd4f4b0746e9ec05ace2a5045c1fc375ae67ee94355344ad6c7005fd87/backoff-1.10.0-py2.py3-none-any.whl\n",
            "Requirement already satisfied: six>=1.5 in /usr/local/lib/python3.7/dist-packages (from analytics-python->gradio) (1.15.0)\n",
            "Collecting monotonic>=1.5\n",
            "  Downloading https://files.pythonhosted.org/packages/9a/67/7e8406a29b6c45be7af7740456f7f37025f0506ae2e05fb9009a53946860/monotonic-1.6-py2.py3-none-any.whl\n",
            "Collecting bcrypt>=3.1.3\n",
            "\u001b[?25l  Downloading https://files.pythonhosted.org/packages/26/70/6d218afbe4c73538053c1016dd631e8f25fffc10cd01f5c272d7acf3c03d/bcrypt-3.2.0-cp36-abi3-manylinux2010_x86_64.whl (63kB)\n",
            "\u001b[K     |████████████████████████████████| 71kB 8.1MB/s \n",
            "\u001b[?25hCollecting cryptography>=2.5\n",
            "\u001b[?25l  Downloading https://files.pythonhosted.org/packages/b2/26/7af637e6a7e87258b963f1731c5982fb31cd507f0d90d91836e446955d02/cryptography-3.4.7-cp36-abi3-manylinux2014_x86_64.whl (3.2MB)\n",
            "\u001b[K     |████████████████████████████████| 3.2MB 46.7MB/s \n",
            "\u001b[?25hCollecting pynacl>=1.0.1\n",
            "\u001b[?25l  Downloading https://files.pythonhosted.org/packages/9d/57/2f5e6226a674b2bcb6db531e8b383079b678df5b10cdaa610d6cf20d77ba/PyNaCl-1.4.0-cp35-abi3-manylinux1_x86_64.whl (961kB)\n",
            "\u001b[K     |████████████████████████████████| 962kB 41.9MB/s \n",
            "\u001b[?25hRequirement already satisfied: itsdangerous<2.0,>=0.24 in /usr/local/lib/python3.7/dist-packages (from Flask>=1.1.1->gradio) (1.1.0)\n",
            "Requirement already satisfied: Werkzeug<2.0,>=0.15 in /usr/local/lib/python3.7/dist-packages (from Flask>=1.1.1->gradio) (1.0.1)\n",
            "Requirement already satisfied: click<8.0,>=5.1 in /usr/local/lib/python3.7/dist-packages (from Flask>=1.1.1->gradio) (7.1.2)\n",
            "Requirement already satisfied: Jinja2<3.0,>=2.10.1 in /usr/local/lib/python3.7/dist-packages (from Flask>=1.1.1->gradio) (2.11.3)\n",
            "Requirement already satisfied: cffi>=1.1 in /usr/local/lib/python3.7/dist-packages (from bcrypt>=3.1.3->paramiko->gradio) (1.14.5)\n",
            "Requirement already satisfied: MarkupSafe>=0.23 in /usr/local/lib/python3.7/dist-packages (from Jinja2<3.0,>=2.10.1->Flask>=1.1.1->gradio) (2.0.1)\n",
            "Requirement already satisfied: pycparser in /usr/local/lib/python3.7/dist-packages (from cffi>=1.1->bcrypt>=3.1.3->paramiko->gradio) (2.20)\n",
            "Building wheels for collected packages: flask-cachebuster, ffmpy\n",
            "  Building wheel for flask-cachebuster (setup.py) ... \u001b[?25l\u001b[?25hdone\n",
            "  Created wheel for flask-cachebuster: filename=Flask_CacheBuster-1.0.0-cp37-none-any.whl size=3372 sha256=98ba21571e03cf4f56d18c253ea62e657799ad425f75cef6dc13ea0b90864b8a\n",
            "  Stored in directory: /root/.cache/pip/wheels/9f/fc/a7/ab5712c3ace9a8f97276465cc2937316ab8063c1fea488ea77\n",
            "  Building wheel for ffmpy (setup.py) ... \u001b[?25l\u001b[?25hdone\n",
            "  Created wheel for ffmpy: filename=ffmpy-0.3.0-cp37-none-any.whl size=4710 sha256=40b9fb6e20c850e6c6abb93359a3fa05777ae5e75afee91f6718f6a7428e48ec\n",
            "  Stored in directory: /root/.cache/pip/wheels/cc/ac/c4/bef572cb7e52bfca170046f567e64858632daf77e0f34e5a74\n",
            "Successfully built flask-cachebuster ffmpy\n",
            "Installing collected packages: markdown2, flask-cachebuster, ffmpy, backoff, monotonic, analytics-python, Flask-Login, bcrypt, cryptography, pynacl, paramiko, Flask-Cors, pycryptodome, gradio\n",
            "Successfully installed Flask-Cors-3.0.10 Flask-Login-0.5.0 analytics-python-1.3.1 backoff-1.10.0 bcrypt-3.2.0 cryptography-3.4.7 ffmpy-0.3.0 flask-cachebuster-1.0.0 gradio-2.1.7 markdown2-2.4.0 monotonic-1.6 paramiko-2.7.2 pycryptodome-3.10.1 pynacl-1.4.0\n"
          ],
          "name": "stdout"
        }
      ]
    },
    {
      "cell_type": "code",
      "metadata": {
        "colab": {
          "base_uri": "https://localhost:8080/",
          "height": 645
        },
        "id": "E_z2y9SmzzuL",
        "outputId": "ada8e38a-5fb8-48f6-acaf-79d60757557f"
      },
      "source": [
        "# https://www.gradio.app/ml_examples\n",
        "# https://www.kaggle.com/scolianni/mnistasjpg\n",
        "\n",
        "import tensorflow as tf\n",
        "from tensorflow import keras\n",
        "import numpy as np\n",
        "import gradio as gr\n",
        "import requests\n",
        "\n",
        "def inference(review):\n",
        "    labels = ['negative' , 'positive']\n",
        "    texts = vec.transform([review])\n",
        "    pred = logisticRegr.predict_proba(texts)\n",
        "    dictionary = dict(zip(labels, map(float, pred[0])))\n",
        "    return dictionary\n",
        "\n",
        "\n",
        "gr.Interface(fn=inference, \n",
        "             inputs=\"textbox\", \n",
        "             outputs=gr.outputs.Label(num_top_classes=2)).launch(share=True) #, debug=True Use in Colab\n",
        "\n",
        "\n"
      ],
      "execution_count": 36,
      "outputs": [
        {
          "output_type": "stream",
          "text": [
            "Colab notebook detected. To show errors in colab notebook, set `debug=True` in `launch()`\n",
            "This share link will expire in 24 hours. If you need a permanent link, visit: https://gradio.app/introducing-hosted (NEW!)\n",
            "Running on External URL: https://49676.gradio.app\n",
            "Interface loading below...\n"
          ],
          "name": "stdout"
        },
        {
          "output_type": "display_data",
          "data": {
            "text/html": [
              "\n",
              "        <iframe\n",
              "            width=\"900\"\n",
              "            height=\"500\"\n",
              "            src=\"https://49676.gradio.app\"\n",
              "            frameborder=\"0\"\n",
              "            allowfullscreen\n",
              "        ></iframe>\n",
              "        "
            ],
            "text/plain": [
              "<IPython.lib.display.IFrame at 0x7f3f403eb910>"
            ]
          },
          "metadata": {
            "tags": []
          }
        },
        {
          "output_type": "execute_result",
          "data": {
            "text/plain": [
              "(<Flask 'gradio.networking'>,\n",
              " 'http://127.0.0.1:7867/',\n",
              " 'https://49676.gradio.app')"
            ]
          },
          "metadata": {
            "tags": []
          },
          "execution_count": 36
        }
      ]
    },
    {
      "cell_type": "code",
      "metadata": {
        "id": "6aSJY2DbsQId"
      },
      "source": [
        ""
      ],
      "execution_count": null,
      "outputs": []
    }
  ]
}